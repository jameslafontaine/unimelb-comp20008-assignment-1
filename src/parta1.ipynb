{
 "cells": [
  {
   "cell_type": "code",
   "execution_count": 68,
   "metadata": {},
   "outputs": [
    {
     "name": "stdout",
     "output_type": "stream",
     "text": [
      "      location month  case_fatality_rate  total_cases  new_cases  \\\n",
      "0  Afghanistan    02                 NaN          1.0        1.0   \n",
      "1  Afghanistan    03            0.022857        175.0      174.0   \n",
      "2  Afghanistan    04            0.030089       2127.0     1952.0   \n",
      "3  Afghanistan    05            0.016965      15208.0    13081.0   \n",
      "4  Afghanistan    06            0.023868      31507.0    16299.0   \n",
      "\n",
      "   total_deaths  new_deaths  \n",
      "0           NaN         0.0  \n",
      "1           4.0         4.0  \n",
      "2          64.0        60.0  \n",
      "3         258.0       194.0  \n",
      "4         752.0       494.0  \n"
     ]
    }
   ],
   "source": [
    "import pandas as pd\n",
    "import argparse\n",
    "\n",
    "# create the dataframe\n",
    "covid_data = pd.read_csv(\"owid-covid-data.csv\")\n",
    "\n",
    "## 1\n",
    "\n",
    "# first filter down to all the rows containing data from the year 2020\n",
    "covid2020 = covid_data.loc[covid_data['date'].str.contains('2020')]\n",
    "\n",
    "# now filter down to the columns that contain location, date, total_cases, new_cases, total_deaths and new_deaths\n",
    "covid2020 = covid2020.loc[:,['location', 'date', 'total_cases', 'new_cases', 'total_deaths', 'new_deaths']]\n",
    "\n",
    "# replace the date column with a month column\n",
    "covid2020['date'] = covid2020['date'].str[5:7]\n",
    "covid2020.columns = ['location', 'month', 'total_cases', 'new_cases', 'total_deaths','new_deaths']\n",
    "\n",
    "# aggregate the values by month and location\n",
    "monthlycovid2020 = covid2020.groupby(['location', 'month'], as_index = False).aggregate({'total_cases': max, 'new_cases': sum(mincount=1), \n",
    "                                                                                         'total_deaths': max, 'new_deaths': sum(mincount=1)})\n",
    "\n",
    "## 2\n",
    "\n",
    "# add case_fatality_rate to the dataframe just after the month column, this is defined as the number of deaths per confirmed case in a given period\n",
    "monthlycovid2020['case_fatality_rate'] = monthlycovid2020['total_deaths'] / monthlycovid2020['total_cases']\n",
    "\n",
    "# reorder the columns to the order specified\n",
    "cols = list(monthlycovid2020.columns)\n",
    "monthlycovid2020 = monthlycovid2020[cols[0:2] + [cols[-1]] + cols[2:6]]\n",
    "\n",
    "# print the first 5 rows of the dataframe to standard output\n",
    "print(monthlycovid2020.head())\n",
    "\n",
    "# save the dataframe as a csv file using the input from the command line and exclude the dataframe index\n",
    "parser = argparse.ArgumentParser()\n",
    "parser.add_argument('csvname', type=str)\n",
    "args = parser.parse_args()\n",
    "monthlycovid2020.to_csv(args.csvname, index=False)"
   ]
  }
 ],
 "metadata": {
  "kernelspec": {
   "display_name": "Python 3",
   "language": "python",
   "name": "python3"
  },
  "language_info": {
   "codemirror_mode": {
    "name": "ipython",
    "version": 3
   },
   "file_extension": ".py",
   "mimetype": "text/x-python",
   "name": "python",
   "nbconvert_exporter": "python",
   "pygments_lexer": "ipython3",
   "version": "3.7.4"
  }
 },
 "nbformat": 4,
 "nbformat_minor": 4
}
